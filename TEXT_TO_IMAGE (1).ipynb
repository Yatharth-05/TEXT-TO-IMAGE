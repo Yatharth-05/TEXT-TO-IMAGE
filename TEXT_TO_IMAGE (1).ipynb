{
  "nbformat": 4,
  "nbformat_minor": 0,
  "metadata": {
    "colab": {
      "provenance": [],
      "gpuType": "T4"
    },
    "kernelspec": {
      "name": "python3",
      "display_name": "Python 3"
    },
    "language_info": {
      "name": "python"
    },
    "accelerator": "GPU"
  },
  "cells": [
    {
      "cell_type": "code",
      "execution_count": null,
      "metadata": {
        "id": "4qcu9_V-YTq_"
      },
      "outputs": [],
      "source": [
        "# Stable Diffusion Text-to-Image Generation in Google Colab\n",
        "\n",
        "# Step 1: Install dependencies\n",
        "!pip install diffusers transformers accelerate safetensors --quiet\n",
        "\n",
        "# Step 2: Import libraries\n",
        "from diffusers import StableDiffusionPipeline\n",
        "import torch\n",
        "from PIL import Image\n",
        "import matplotlib.pyplot as plt\n",
        "\n",
        "# Step 3: Load the model (Hugging Face login required if using private models)\n",
        "model_id = \"runwayml/stable-diffusion-v1-5\"\n",
        "pipe = StableDiffusionPipeline.from_pretrained(model_id, torch_dtype=torch.float16)\n",
        "pipe = pipe.to(\"cuda\")\n",
        "\n",
        "# Step 4: Enter a prompt\n",
        "prompt = \"SNOWFALL IN DESERT\"\n",
        "image = pipe(prompt).images[0]\n",
        "\n",
        "# Step 5: Show and save the image\n",
        "plt.imshow(image)\n",
        "plt.axis(\"off\")\n",
        "plt.show()\n",
        "\n",
        "# Save image\n",
        "image.save(\"generated_image.png\")\n"
      ]
    },
    {
      "cell_type": "code",
      "source": [],
      "metadata": {
        "id": "spE7OaLJYUsV"
      },
      "execution_count": null,
      "outputs": []
    }
  ]
}